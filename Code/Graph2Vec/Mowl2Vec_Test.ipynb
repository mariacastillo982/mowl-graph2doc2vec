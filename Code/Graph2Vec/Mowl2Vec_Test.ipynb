{
 "cells": [
  {
   "cell_type": "code",
   "execution_count": null,
   "metadata": {},
   "outputs": [],
   "source": [
    "import sys\n",
    "sys.path.append(\"../../\")\n",
    "\n",
    "import torch as th\n",
    "import logging\n",
    "\n",
    "import mowl\n",
    "mowl.init_jvm(\"2g\")\n",
    "from mowl.datasets.ppi_yeast import PPIYeastSlimDataset\n",
    "from mowl.datasets.base import PathDataset\n",
    "\n",
    "from mowl.embeddings.graph_based.owl2vec.model import OWL2VecStar\n",
    "from gensim.models import Word2Vec\n",
    "import pickle as pkl\n",
    "import numpy as np\n",
    "from sklearn.manifold import TSNE\n",
    "import matplotlib.pyplot as plt"
   ]
  },
  {
   "cell_type": "code",
   "execution_count": null,
   "metadata": {},
   "outputs": [],
   "source": [
    "dataset = PathDataset(\"data/mp.owl\", None, None)\n",
    "\n",
    "model = OWL2VecStar(\n",
    "    dataset, \n",
    "    \"data/owl2vec_deepwalk\", \n",
    "    bidirectional_taxonomy=True,\n",
    "    include_literals = False,\n",
    "    only_taxonomy = True,\n",
    "    walking_method = \"deepwalk\",\n",
    "    walk_length=50, \n",
    "    vector_size = 100,\n",
    "    num_walks=32, \n",
    "    alpha=0,\n",
    "    window=5,\n",
    "    wv_epochs = 5,\n",
    "    workers = 16,\n",
    "    walks_outfile = \"data/walks_qwer\"\n",
    ")"
   ]
  }
 ],
 "metadata": {
  "kernelspec": {
   "display_name": "graph2doc2vec_env",
   "language": "python",
   "name": "python3"
  },
  "language_info": {
   "name": "python",
   "version": "3.10.9"
  },
  "orig_nbformat": 4,
  "vscode": {
   "interpreter": {
    "hash": "1bed0e639ae37f4873fb0f11e8a4526b2621243edb4f8734a70cd3367cf8a468"
   }
  }
 },
 "nbformat": 4,
 "nbformat_minor": 2
}
